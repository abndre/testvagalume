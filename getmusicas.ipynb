{
 "cells": [
  {
   "cell_type": "code",
   "execution_count": 1,
   "metadata": {},
   "outputs": [
    {
     "name": "stderr",
     "output_type": "stream",
     "text": [
      "/usr/lib/python3/dist-packages/requests/__init__.py:80: RequestsDependencyWarning: urllib3 (1.24) or chardet (3.0.4) doesn't match a supported version!\n",
      "  RequestsDependencyWarning)\n"
     ]
    }
   ],
   "source": [
    "# - coding: utf-8 --\n",
    "import bs4\n",
    "from bs4 import BeautifulSoup\n",
    "import requests"
   ]
  },
  {
   "cell_type": "code",
   "execution_count": 2,
   "metadata": {},
   "outputs": [],
   "source": [
    "link = 'https://www.vagalume.com.br/mamonas-assassinas/'"
   ]
  },
  {
   "cell_type": "code",
   "execution_count": 3,
   "metadata": {},
   "outputs": [],
   "source": [
    "page = requests.get(link)\n",
    "soup = BeautifulSoup(page.text, 'html.parser')"
   ]
  },
  {
   "cell_type": "code",
   "execution_count": 56,
   "metadata": {},
   "outputs": [],
   "source": [
    "#x=soup.find_all(id=\"topMusicList\")\n",
    "#x=soup.find(\"div\", {\"id\": \"topMusicList\"})\n",
    "x = spans = soup.find_all('span', {'class' : 'numMusic'})\n",
    "y = spans = soup.find_all('a', {'class' : 'nameMusic'})"
   ]
  },
  {
   "cell_type": "code",
   "execution_count": 64,
   "metadata": {},
   "outputs": [],
   "source": [
    "diciomusic ={}\n",
    "for num,music in zip(x,y):\n",
    "    diciomusic[num.text]=music.text\n"
   ]
  },
  {
   "cell_type": "code",
   "execution_count": 65,
   "metadata": {},
   "outputs": [
    {
     "data": {
      "text/plain": [
       "{'01.': 'Jumento Celestino',\n",
       " '02.': 'Pelados em Santos',\n",
       " '03.': '1406',\n",
       " '04.': 'Robocop Gay',\n",
       " '05.': 'Uma Arlinda Mulher',\n",
       " '06.': 'Vira-Vira',\n",
       " '07.': 'Mundo Animal',\n",
       " '08.': 'LÃ¡ Vem O AlemÃ£o',\n",
       " '09.': 'Chopis Centis',\n",
       " '10.': \"Bois Don't Cry\",\n",
       " '11.': 'CabeÃ§a de Bagre',\n",
       " '12.': 'DÃ©bil Metal',\n",
       " '13.': 'SabÃ£o CrÃ¡ CrÃ¡',\n",
       " '14.': 'SÃ¡bado de Sol',\n",
       " '15.': 'Uma Arlinda Mulher (ao Vivo)',\n",
       " '16.': 'Tema da Pantera Cor de Rosa',\n",
       " '17.': 'Joelho',\n",
       " '18.': 'NÃ£o Peide Aqui Baby',\n",
       " '19.': 'Renato, o GaÃºcho (NÃ£o gravada pela banda)',\n",
       " '20.': 'Desnudos en CancÃºn',\n",
       " '21.': 'Robocop Gay /MelÃ´ do Piripiri',\n",
       " '22.': 'Onon Onon'}"
      ]
     },
     "execution_count": 65,
     "metadata": {},
     "output_type": "execute_result"
    }
   ],
   "source": [
    "diciomusic"
   ]
  },
  {
   "cell_type": "code",
   "execution_count": null,
   "metadata": {},
   "outputs": [],
   "source": []
  }
 ],
 "metadata": {
  "kernelspec": {
   "display_name": "Python 3",
   "language": "python",
   "name": "python3"
  },
  "language_info": {
   "codemirror_mode": {
    "name": "ipython",
    "version": 3
   },
   "file_extension": ".py",
   "mimetype": "text/x-python",
   "name": "python",
   "nbconvert_exporter": "python",
   "pygments_lexer": "ipython3",
   "version": "3.6.5"
  }
 },
 "nbformat": 4,
 "nbformat_minor": 2
}
