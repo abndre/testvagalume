{
 "cells": [
  {
   "cell_type": "code",
   "execution_count": 4,
   "metadata": {},
   "outputs": [],
   "source": [
    "from selenium import webdriver\n",
    "from selenium.common.exceptions import NoSuchElementException\n",
    "from selenium.webdriver.common.keys import Keys\n",
    "import time\n",
    "from selenium.webdriver.support.ui import Select\n",
    "\n",
    "from selenium import webdriver\n",
    "from selenium.webdriver.common.by import By\n",
    "from selenium.webdriver.support.ui import WebDriverWait\n",
    "from selenium.webdriver.support import expected_conditions as EC"
   ]
  },
  {
   "cell_type": "code",
   "execution_count": 5,
   "metadata": {},
   "outputs": [],
   "source": [
    "#link = 'https://www.vagalume.com.br/mamonas-assassinas/jumento-celestino.html'\n",
    "link = 'https://www.vagalume.com.br/mamonas-assassinas/'\n",
    "browser = webdriver.Chrome()\n",
    "browser.get(link)"
   ]
  },
  {
   "cell_type": "code",
   "execution_count": 7,
   "metadata": {},
   "outputs": [],
   "source": [
    "x=WebDriverWait(browser, 10).until(EC.element_to_be_clickable((By.LINK_TEXT, 'Jumento Celestino')))\n"
   ]
  },
  {
   "cell_type": "code",
   "execution_count": 8,
   "metadata": {},
   "outputs": [],
   "source": [
    "x.click()"
   ]
  },
  {
   "cell_type": "code",
   "execution_count": 9,
   "metadata": {},
   "outputs": [],
   "source": [
    "openpopustat =browser.find_element_by_id('lyrics')"
   ]
  },
  {
   "cell_type": "code",
   "execution_count": 10,
   "metadata": {},
   "outputs": [
    {
     "name": "stdout",
     "output_type": "stream",
     "text": [
      "Tava ruim lá na Bahia, profissão de bóia-fria\n",
      "\n",
      "Trabalhando noite e dia, num era isso que eu queria\n",
      "Eu vim-me embora pra \"Sum Paulo\",\n",
      "Eu vim no lombo dum jumento com pouco conhecimento\n",
      "Enfrentando chuva e vento e dando uns peido fedorento\n",
      "Até minha bunda fez um calo\n",
      "\n",
      "Chegando na capital, uns puta predião legal\n",
      "As mina pagando um pau, mas meu jumento tava mal\n",
      "\n",
      "Precisando reformar\n",
      "Fiz a pintura, importei quatro ferradura\n",
      "Troquei até dentadura e pra completar a belezura\n",
      "Eu instalei um Road-Star!\n",
      "\n",
      "Descendo com o jumento na mó vula\n",
      "Ultrapassei farol vermelho e dei de frente com uma mula\n",
      "Saí avuando, parecia um foguete\n",
      "Só não estourei meu côco pois tava de capacete\n",
      "\n",
      "Me alevantei, o dono da mula gritando\n",
      "O povo em volta tudo olhando e ninguém pra me socorrer\n",
      "\n",
      "Fugi mancando e a multidão se amontoando\n",
      "Em coro tudo gritando: \"Baiano, cê vai morreêeê !\"\n",
      "\n",
      "Depois desse sofrimento, a maior desilusão\n",
      "Pra aumentar o meu lamento, foi-se embora meu jumento\n",
      "E me deixou com as prestação\n",
      "E hoje eu tô arrependido de ter feito imigração\n",
      "Volto pra casa fudido, com um monte de apelido\n",
      "O mais bonito é cabeção!\n"
     ]
    }
   ],
   "source": [
    "print(openpopustat.text)"
   ]
  },
  {
   "cell_type": "code",
   "execution_count": null,
   "metadata": {},
   "outputs": [],
   "source": []
  }
 ],
 "metadata": {
  "kernelspec": {
   "display_name": "Python 3",
   "language": "python",
   "name": "python3"
  },
  "language_info": {
   "codemirror_mode": {
    "name": "ipython",
    "version": 3
   },
   "file_extension": ".py",
   "mimetype": "text/x-python",
   "name": "python",
   "nbconvert_exporter": "python",
   "pygments_lexer": "ipython3",
   "version": "3.6.5"
  }
 },
 "nbformat": 4,
 "nbformat_minor": 2
}
