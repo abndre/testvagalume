{
 "cells": [
  {
   "cell_type": "code",
   "execution_count": 1,
   "metadata": {},
   "outputs": [],
   "source": [
    "from selenium import webdriver\n",
    "from selenium.common.exceptions import NoSuchElementException\n",
    "from selenium.webdriver.common.keys import Keys\n",
    "import time\n",
    "from selenium.webdriver.support.ui import Select"
   ]
  },
  {
   "cell_type": "code",
   "execution_count": 8,
   "metadata": {},
   "outputs": [],
   "source": [
    "link = 'https://www.vagalume.com.br/mamonas-assassinas/popularidade/'"
   ]
  },
  {
   "cell_type": "code",
   "execution_count": 9,
   "metadata": {},
   "outputs": [],
   "source": [
    "browser = webdriver.Chrome()\n",
    "browser.get(link)"
   ]
  },
  {
   "cell_type": "code",
   "execution_count": 10,
   "metadata": {},
   "outputs": [],
   "source": [
    "#openpopustat =browser.find_element_by_xpath(\"//*[@class='icon-busca']\")\n"
   ]
  },
  {
   "cell_type": "code",
   "execution_count": 11,
   "metadata": {},
   "outputs": [],
   "source": [
    "xx = browser.find_element_by_tag_name('tbody')"
   ]
  },
  {
   "cell_type": "code",
   "execution_count": 12,
   "metadata": {},
   "outputs": [],
   "source": [
    "xx =xx.text.split('\\n')"
   ]
  },
  {
   "cell_type": "code",
   "execution_count": 13,
   "metadata": {},
   "outputs": [
    {
     "data": {
      "text/plain": [
       "{'1': 'Jumento Celestino 1.315° 0,895',\n",
       " '2': 'Pelados em Santos 1.635° 0,767',\n",
       " '3': '1406 2.101° 0,628',\n",
       " '4': 'Vira-Vira 2.372° 0,569',\n",
       " '5': 'Robocop Gay 2.395° 0,565',\n",
       " '6': 'Uma Arlinda Mulher 3.104° 0,462',\n",
       " '7': 'Mundo Animal 3.741° 0,394',\n",
       " '8': 'Chopis Centis 5.751° 0,269',\n",
       " '9': 'Lá Vem O Alemão 6.349° 0,244',\n",
       " '10': \"Bois Don't Cry 6.804° 0,228\",\n",
       " '11': 'Cabeça de Bagre 8.616° 0,180',\n",
       " '12': 'Débil Metal 8.761° 0,177',\n",
       " '13': 'Sábado de Sol 9.442° 0,164',\n",
       " '14': 'Sabão Crá Crá 12.189° 0,127',\n",
       " '15': 'Uma Arlinda Mulher (ao Vivo) 18.432° 0,080',\n",
       " '16': 'Não Peide Aqui Baby 18.737° 0,079',\n",
       " '17': 'Robocop Gay /Melô do Piripiri 18.896° 0,078',\n",
       " '18': 'Tema da Pantera Cor de Rosa 21.220° 0,068',\n",
       " '19': 'Joelho 21.813° 0,066',\n",
       " '20': 'Onon Onon 24.788° 0,057',\n",
       " '21': 'Desnudos en Cancún 26.234° 0,053',\n",
       " '22': 'Renato, o Gaúcho (Não gravada pela banda) 27.279° 0,051'}"
      ]
     },
     "execution_count": 13,
     "metadata": {},
     "output_type": "execute_result"
    }
   ],
   "source": [
    "dicio={}\n",
    "for i in xx:\n",
    "    kk = i.split(' ')\n",
    "    key = kk[0]\n",
    "    value = ' '.join(kk[1:])\n",
    "    dicio[key]=value\n",
    "dicio"
   ]
  },
  {
   "cell_type": "code",
   "execution_count": null,
   "metadata": {},
   "outputs": [],
   "source": []
  }
 ],
 "metadata": {
  "kernelspec": {
   "display_name": "Python 3",
   "language": "python",
   "name": "python3"
  },
  "language_info": {
   "codemirror_mode": {
    "name": "ipython",
    "version": 3
   },
   "file_extension": ".py",
   "mimetype": "text/x-python",
   "name": "python",
   "nbconvert_exporter": "python",
   "pygments_lexer": "ipython3",
   "version": "3.6.5"
  }
 },
 "nbformat": 4,
 "nbformat_minor": 2
}
