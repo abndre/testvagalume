{
 "cells": [
  {
   "cell_type": "code",
   "execution_count": 1,
   "metadata": {},
   "outputs": [],
   "source": [
    "from selenium import webdriver\n",
    "from selenium.common.exceptions import NoSuchElementException\n",
    "from selenium.webdriver.common.keys import Keys\n",
    "import time\n",
    "from selenium.webdriver.support.ui import Select"
   ]
  },
  {
   "cell_type": "code",
   "execution_count": 2,
   "metadata": {},
   "outputs": [],
   "source": [
    "link = 'https://www.vagalume.com.br/mamonas-assassinas/popularidade/'"
   ]
  },
  {
   "cell_type": "code",
   "execution_count": 3,
   "metadata": {},
   "outputs": [],
   "source": [
    "browser = webdriver.Chrome()\n",
    "browser.get(link)"
   ]
  },
  {
   "cell_type": "code",
   "execution_count": null,
   "metadata": {},
   "outputs": [],
   "source": [
    "openpopustat =browser.find_element_by_xpath(\"//*[@class='icon-busca']\")\n"
   ]
  },
  {
   "cell_type": "code",
   "execution_count": 7,
   "metadata": {},
   "outputs": [],
   "source": [
    "xx = browser.find_element_by_tag_name('tbody')"
   ]
  },
  {
   "cell_type": "code",
   "execution_count": 10,
   "metadata": {},
   "outputs": [],
   "source": [
    "xx =xx.text.split('\\n')"
   ]
  },
  {
   "cell_type": "code",
   "execution_count": 17,
   "metadata": {},
   "outputs": [
    {
     "data": {
      "text/plain": [
       "{'1': 'Jumento Celestino',\n",
       " '2': 'Pelados em Santos',\n",
       " '3': '1406',\n",
       " '4': 'Vira-Vira',\n",
       " '5': 'Robocop Gay',\n",
       " '6': 'Uma Arlinda Mulher',\n",
       " '7': 'Mundo Animal',\n",
       " '8': 'Chopis Centis',\n",
       " '9': 'Lá Vem O Alemão',\n",
       " '10': \"Bois Don't Cry\",\n",
       " '11': 'Cabeça de Bagre',\n",
       " '12': 'Débil Metal',\n",
       " '13': 'Sábado de Sol',\n",
       " '14': 'Sabão Crá Crá',\n",
       " '15': 'Uma Arlinda Mulher (ao Vivo)',\n",
       " '16': 'Não Peide Aqui Baby',\n",
       " '17': 'Robocop Gay /Melô do Piripiri',\n",
       " '18': 'Tema da Pantera Cor de Rosa',\n",
       " '19': 'Joelho',\n",
       " '20': 'Onon Onon',\n",
       " '21': 'Desnudos en Cancún',\n",
       " '22': 'Renato, o Gaúcho (Não gravada pela banda)'}"
      ]
     },
     "execution_count": 17,
     "metadata": {},
     "output_type": "execute_result"
    }
   ],
   "source": [
    "dicio={}\n",
    "for i in xx:\n",
    "    kk = i.split(' ')\n",
    "    key = kk[0]\n",
    "    value = ' '.join(kk[1:])\n",
    "    dicio[key]=value\n",
    "dicio"
   ]
  },
  {
   "cell_type": "code",
   "execution_count": null,
   "metadata": {},
   "outputs": [],
   "source": []
  }
 ],
 "metadata": {
  "kernelspec": {
   "display_name": "Python 3",
   "language": "python",
   "name": "python3"
  },
  "language_info": {
   "codemirror_mode": {
    "name": "ipython",
    "version": 3
   },
   "file_extension": ".py",
   "mimetype": "text/x-python",
   "name": "python",
   "nbconvert_exporter": "python",
   "pygments_lexer": "ipython3",
   "version": "3.6.5"
  }
 },
 "nbformat": 4,
 "nbformat_minor": 2
}
